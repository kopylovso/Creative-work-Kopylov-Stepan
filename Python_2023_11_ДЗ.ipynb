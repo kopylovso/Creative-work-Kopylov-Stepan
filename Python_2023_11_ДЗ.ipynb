{
  "nbformat": 4,
  "nbformat_minor": 0,
  "metadata": {
    "colab": {
      "provenance": []
    },
    "kernelspec": {
      "name": "python3",
      "display_name": "Python 3"
    },
    "language_info": {
      "name": "python"
    }
  },
  "cells": [
    {
      "cell_type": "markdown",
      "metadata": {
        "id": "V4njW26kU2d7"
      },
      "source": [
        "#Урок 11. Домашнее задание"
      ]
    },
    {
      "cell_type": "markdown",
      "metadata": {
        "id": "Fe4hOVsAkHRW"
      },
      "source": [
        "##Задание 1.\n",
        "Пользователь вводит строку из цифр и букв,  программа считает и выводит на экран, сколько раз в строке встретилась цифра 0.\n",
        "Указание: использовать find с поиском в части строки."
      ]
    },
    {
      "cell_type": "code",
      "source": [],
      "metadata": {
        "id": "e1asd0z7wMLs"
      },
      "execution_count": null,
      "outputs": []
    },
    {
      "cell_type": "markdown",
      "metadata": {
        "id": "Ti-_oZ2o8Lnk"
      },
      "source": [
        "##Задание 2.\n",
        "Пользователь вводит строку из цифр и букв,  программа выводит на экран  ближайшую к началу строки цифру и номер ее первого вхождения в строку. Если цифр в строке нет, выводится текст \"Цифр нет\"\n",
        "\n",
        "**Указание:** использовать find."
      ]
    },
    {
      "cell_type": "code",
      "source": [],
      "metadata": {
        "id": "kd7ekwYHwNeG"
      },
      "execution_count": null,
      "outputs": []
    },
    {
      "cell_type": "markdown",
      "metadata": {
        "id": "CwjIe2uskjQt"
      },
      "source": [
        "##Задание 3.\n",
        "Пользователь вводит текст с запятыми и точками, программа выводит тот же текст, удаляя, если есть, пробел перед запятой или точкой, и добавляя, если нужно, пробел после запятой или точки. Если в самом конце текста точка, то после нее пробел не пишется. Т.е. в тексте, выведенном программой, не должно быть пробелов перед знаками препинания, а после - один пробел."
      ]
    },
    {
      "cell_type": "code",
      "source": [],
      "metadata": {
        "id": "KoWMqyXawPt_"
      },
      "execution_count": null,
      "outputs": []
    },
    {
      "cell_type": "markdown",
      "metadata": {
        "id": "B8xeIk0FnjPd"
      },
      "source": [
        "##Задание 4.\n",
        "Пользователь вводит текст из слов, состоящих из букв, слова разделены пробелами, может быть подряд несколько пробелов. Программа выводит на экран слова, каждое на отдельной строке\n",
        "\n",
        "Например, если введено 'слово текст   еще  текст' то выводится\n",
        "\n",
        "слово\n",
        "\n",
        "текст\n",
        "\n",
        "еще\n",
        "\n",
        "текст"
      ]
    },
    {
      "cell_type": "code",
      "source": [],
      "metadata": {
        "id": "9QPi4RRuwQ6W"
      },
      "execution_count": null,
      "outputs": []
    },
    {
      "cell_type": "markdown",
      "metadata": {
        "id": "DOQW2V8tma_O"
      },
      "source": [
        "##Задание 5.\n",
        "Пользователь вводит строку из букв и цифр, программа выводит количество цифр и букв.\n",
        "\n",
        "Например, если введено '12nhfd5634', то программа выводит 'Цифр 6, букв 4.'."
      ]
    },
    {
      "cell_type": "code",
      "source": [],
      "metadata": {
        "id": "ZhlFhFJYwSXu"
      },
      "execution_count": null,
      "outputs": []
    }
  ]
}